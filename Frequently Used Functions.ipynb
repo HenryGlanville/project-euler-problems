{
 "cells": [
  {
   "cell_type": "markdown",
   "metadata": {},
   "source": [
    "# Frequently Used Functions\n",
    "\n",
    "A collection of self-defined Python functions that are frequently used in my solutions, along with their explanations."
   ]
  },
  {
   "cell_type": "markdown",
   "metadata": {},
   "source": [
    "## Contents\n",
    "* [`is_prime` Function](#is_prime)"
   ]
  },
  {
   "cell_type": "markdown",
   "metadata": {},
   "source": [
    "## `is_prime` Function <a id=\"is_prime\"></a>\n",
    "\n",
    "A prime number is an integer greater than 1 that has no even factors other than 1 and itself. \n",
    "\n",
    "This function returns a Boolean reflecting whether the Integer argument is a prime number.\n",
    "\n",
    "It does this by:\n",
    "\n",
    "1. Checking if the number is 2 or 3, in which case returning `TRUE` as they are of course primes.\n",
    "2. Checking if the number is even, 1 or 0, in which case returning `FALSE` as these are not primes.\n",
    "3. Checking if the number is evenly divisible by any integer greater than 2 up to its square root, in which case returning `FALSE` as this would make it not a prime.\n",
    "4. Returning `TRUE` otherwise."
   ]
  },
  {
   "cell_type": "code",
   "execution_count": null,
   "metadata": {},
   "outputs": [],
   "source": [
    "def is_prime(num = int):\n",
    "    if num in [2, 3]:\n",
    "        return True\n",
    "    if num % 2 == 0 or num < 2:\n",
    "        return False\n",
    "    for i in range(3, round(num**0.5) + 1, 2):\n",
    "        if num % i == 0:\n",
    "            return False\n",
    "    return True"
   ]
  }
 ],
 "metadata": {
  "language_info": {
   "name": "python"
  }
 },
 "nbformat": 4,
 "nbformat_minor": 2
}

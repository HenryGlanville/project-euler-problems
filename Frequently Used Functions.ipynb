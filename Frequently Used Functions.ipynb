{
 "cells": [
  {
   "cell_type": "markdown",
   "metadata": {},
   "source": [
    "# Frequently Used Functions\n",
    "\n",
    "A collection of self-defined Python functions that are frequently used in my solutions, along with their explanations."
   ]
  },
  {
   "cell_type": "markdown",
   "metadata": {},
   "source": [
    "## Contents\n",
    "* [`readable_num` Function](#readable_num)\n",
    "* [`is_prime` Function](#is_prime)\n",
    "* [`gen_primes` Function](#gen_primes)"
   ]
  },
  {
   "cell_type": "markdown",
   "metadata": {},
   "source": [
    "## `readable_num` Function <a id=\"readable_num\"></a>\n",
    "\n",
    "A function to translate long integer arguments into a more readable format by inserting commas at the necessary intervals."
   ]
  },
  {
   "cell_type": "code",
   "execution_count": null,
   "metadata": {},
   "outputs": [],
   "source": [
    "def readable_num(num):\n",
    "    num_string = str(num)\n",
    "    result = ''\n",
    "    for i in range(len(num_string)):\n",
    "        result = result + num_string[i] \n",
    "        if (len(num_string)-1-i) % 3 == 0:\n",
    "            result = result + ','\n",
    "    result = result.rstrip(',')\n",
    "    return result"
   ]
  },
  {
   "cell_type": "markdown",
   "metadata": {},
   "source": [
    "## `is_prime` Function <a id=\"is_prime\"></a>\n",
    "\n",
    "A prime number is an integer greater than 1 that has no even factors other than 1 and itself. This function returns a Boolean reflecting whether the Integer argument is a prime number. It does this by:\n",
    "\n",
    "1. Checking if the number is 2 or 3, in which case returning `TRUE` as they are of course primes.\n",
    "2. Checking if the number is even, 1 or 0, in which case returning `FALSE` as these are not primes.\n",
    "3. Checking if the number is evenly divisible by any integer greater than 2 up to its square root, in which case returning `FALSE` as this would make it not a prime.\n",
    "4. Returning `TRUE` otherwise."
   ]
  },
  {
   "cell_type": "code",
   "execution_count": null,
   "metadata": {},
   "outputs": [],
   "source": [
    "def is_prime(num):\n",
    "    if num in [2, 3]:\n",
    "        return True\n",
    "    if num % 2 == 0 or num < 2:\n",
    "        return False\n",
    "    for i in range(3, round(num**0.5) + 1, 2):\n",
    "        if num % i == 0:\n",
    "            return False\n",
    "    return True"
   ]
  },
  {
   "cell_type": "markdown",
   "metadata": {},
   "source": [
    "## `gen_primes` Function <a id=\"gen_primes\"></a>\n",
    "\n",
    "Uses the Sieve of Eratosthenes algorithm where, to find all prime numbers up to an integer N:\n",
    "\n",
    "1. Create a list of integers from 2 to N.\n",
    "2. Let p = 2.\n",
    "3. Enumerate the multiples of p from 2p to N and mark them as non-prime.\n",
    "4. Find the smallest unmarked number greater than p (if there is none then stop), let that number equal p and repeat the previous step.\n",
    "5. The resulting list is the list of all prime numbers below N.\n",
    "\n",
    "This function performs the method using a binary map instead of a list of integers, as creating and storing a boolean array is much faster than numerical values, especially at higher quantities."
   ]
  },
  {
   "cell_type": "code",
   "execution_count": null,
   "metadata": {},
   "outputs": [],
   "source": [
    "def gen_primes(limit):\n",
    "    prime_flags = [True]*(limit+1)\n",
    "    prime_flags[0] = prime_flags[1] = False\n",
    "    primes = []\n",
    "    for num, flag in enumerate(prime_flags):\n",
    "        if flag:\n",
    "            primes.append(num)\n",
    "            for p in range(2*num, limit+1, num):\n",
    "                prime_flags[p] = False\n",
    "    return primes"
   ]
  }
 ],
 "metadata": {
  "language_info": {
   "name": "python"
  }
 },
 "nbformat": 4,
 "nbformat_minor": 2
}
